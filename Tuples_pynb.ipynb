{
 "cells": [
  {
   "cell_type": "code",
   "execution_count": 5,
   "metadata": {},
   "outputs": [
    {
     "name": "stdout",
     "output_type": "stream",
     "text": [
      "flafel\n"
     ]
    }
   ],
   "source": [
    "drinks=[\"coffe\",\"soda\",\"tea\"]\n",
    "dinner = [\"pizza\", \"shawarma\",\"flafel\"]\n",
    "dessert = [\"cake\",\"bentalsahn\"]\n",
    "\n",
    "\n",
    "food= [drinks,dinner,dessert]\n",
    "\n",
    "print(food[1][2])"
   ]
  },
  {
   "cell_type": "code",
   "execution_count": 15,
   "metadata": {},
   "outputs": [
    {
     "name": "stdout",
     "output_type": "stream",
     "text": [
      "bro\n",
      "22\n",
      "male\n",
      "bro is here\n"
     ]
    }
   ],
   "source": [
    "student=(\"bro\",22,\"male\")\n",
    "#print(student.count(\"bro\"))\n",
    "#print(student.index(\"male\"))\n",
    "\n",
    "for x in student:\n",
    "\n",
    "    print(x)\n",
    "if \"bro\" in student:\n",
    "    print(\"bro is here\")     "
   ]
  },
  {
   "cell_type": "code",
   "execution_count": null,
   "metadata": {},
   "outputs": [],
   "source": []
  }
 ],
 "metadata": {
  "kernelspec": {
   "display_name": "Python 3.9.12 ('base')",
   "language": "python",
   "name": "python3"
  },
  "language_info": {
   "codemirror_mode": {
    "name": "ipython",
    "version": 3
   },
   "file_extension": ".py",
   "mimetype": "text/x-python",
   "name": "python",
   "nbconvert_exporter": "python",
   "pygments_lexer": "ipython3",
   "version": "3.9.12"
  },
  "orig_nbformat": 4,
  "vscode": {
   "interpreter": {
    "hash": "9bbb6fc2d869a8aa0c1e04fa0639318c175b6b8cba821b395fd1e7cfeb8b5633"
   }
  }
 },
 "nbformat": 4,
 "nbformat_minor": 2
}
